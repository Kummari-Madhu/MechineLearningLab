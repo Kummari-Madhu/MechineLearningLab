{
 "cells": [
  {
   "cell_type": "code",
   "execution_count": 5,
   "metadata": {},
   "outputs": [
    {
     "name": "stdout",
     "output_type": "stream",
     "text": [
      "    Manufacturer              Model  Sales in thousands 4-year resale value  \\\n",
      "0  Acura          Integra                        16.919               16.36   \n",
      "1  Acura          TL                             39.384              19.875   \n",
      "2  Acura          CL                             14.114              18.225   \n",
      "3  Acura          RL                              8.588              29.725   \n",
      "4  Audi           A4                             20.397              22.255   \n",
      "\n",
      "  Vehicle type Price in thousands Engine size Horsepower Wheelbase Width  \\\n",
      "0    Passenger               21.5         1.8        140     101.2  67.3   \n",
      "1    Passenger               28.4         3.2        225     108.1  70.3   \n",
      "2    Passenger                  .         3.2        225     106.9  70.6   \n",
      "3    Passenger                 42         3.5        210     114.6  71.4   \n",
      "4    Passenger              23.99         1.8        150     102.6  68.2   \n",
      "\n",
      "  Length Curb weight Fuel capacity Fuel efficiency Latest Launch  \n",
      "0  172.4       2.639          13.2              28      2-Feb-14  \n",
      "1  192.9       3.517          17.2              25      6-Mar-15  \n",
      "2    192        3.47          17.2              26      1-Apr-14  \n",
      "3  196.6        3.85            18              22      3-Oct-15  \n",
      "4    178       2.998          16.4              27     10-Aug-15  \n"
     ]
    }
   ],
   "source": [
    "import pandas as pd\n",
    "df=pd.read_csv(\"car_sales.csv\")\n",
    "print(df.head())"
   ]
  },
  {
   "cell_type": "code",
   "execution_count": 70,
   "metadata": {},
   "outputs": [],
   "source": [
    "\n",
    "file_path = \"car_sales.csv\" \n",
    "df = pd.read_csv(file_path)"
   ]
  },
  {
   "cell_type": "code",
   "execution_count": 17,
   "metadata": {},
   "outputs": [
    {
     "name": "stdout",
     "output_type": "stream",
     "text": [
      "    Manufacturer              Model  Sales in thousands 4-year resale value  \\\n",
      "0  Acura          Integra                        16.919               16.36   \n",
      "1  Acura          TL                             39.384              19.875   \n",
      "2  Acura          CL                             14.114              18.225   \n",
      "3  Acura          RL                              8.588              29.725   \n",
      "4  Audi           A4                             20.397              22.255   \n",
      "\n",
      "  Vehicle type Price in thousands Engine size Horsepower Wheelbase Width  \\\n",
      "0    Passenger               21.5         1.8        140     101.2  67.3   \n",
      "1    Passenger               28.4         3.2        225     108.1  70.3   \n",
      "2    Passenger                  .         3.2        225     106.9  70.6   \n",
      "3    Passenger                 42         3.5        210     114.6  71.4   \n",
      "4    Passenger              23.99         1.8        150     102.6  68.2   \n",
      "\n",
      "  Length Curb weight Fuel capacity Fuel efficiency Latest Launch  \n",
      "0  172.4       2.639          13.2              28      2-Feb-14  \n",
      "1  192.9       3.517          17.2              25      6-Mar-15  \n",
      "2    192        3.47          17.2              26      1-Apr-14  \n",
      "3  196.6        3.85            18              22      3-Oct-15  \n",
      "4    178       2.998          16.4              27     10-Aug-15  \n"
     ]
    }
   ],
   "source": [
    "# 1. Read top five values\n",
    "import pandas as pd\n",
    "df=pd.read_csv(\"car_sales.csv\")\n",
    "print(df.head(5))"
   ]
  },
  {
   "cell_type": "code",
   "execution_count": 24,
   "metadata": {},
   "outputs": [
    {
     "name": "stdout",
     "output_type": "stream",
     "text": [
      "DataFrame Info:\n",
      "<class 'pandas.core.frame.DataFrame'>\n",
      "RangeIndex: 157 entries, 0 to 156\n",
      "Data columns (total 15 columns):\n",
      " #   Column               Non-Null Count  Dtype  \n",
      "---  ------               --------------  -----  \n",
      " 0   Manufacturer         157 non-null    object \n",
      " 1   Model                157 non-null    object \n",
      " 2   Sales in thousands   157 non-null    float64\n",
      " 3   4-year resale value  157 non-null    object \n",
      " 4   Vehicle type         157 non-null    object \n",
      " 5   Price in thousands   157 non-null    object \n",
      " 6   Engine size          157 non-null    object \n",
      " 7   Horsepower           157 non-null    object \n",
      " 8   Wheelbase            157 non-null    object \n",
      " 9   Width                157 non-null    object \n",
      " 10  Length               157 non-null    object \n",
      " 11  Curb weight          157 non-null    object \n",
      " 12  Fuel capacity        157 non-null    object \n",
      " 13  Fuel efficiency      157 non-null    object \n",
      " 14  Latest Launch        157 non-null    object \n",
      "dtypes: float64(1), object(14)\n",
      "memory usage: 18.5+ KB\n"
     ]
    },
    {
     "data": {
      "text/plain": [
       "Manufacturer            object\n",
       "Model                   object\n",
       "Sales in thousands     float64\n",
       "4-year resale value     object\n",
       "Vehicle type            object\n",
       "Price in thousands      object\n",
       "Engine size             object\n",
       "Horsepower              object\n",
       "Wheelbase               object\n",
       "Width                   object\n",
       "Length                  object\n",
       "Curb weight             object\n",
       "Fuel capacity           object\n",
       "Fuel efficiency         object\n",
       "Latest Launch           object\n",
       "dtype: object"
      ]
     },
     "execution_count": 24,
     "metadata": {},
     "output_type": "execute_result"
    }
   ],
   "source": [
    "\n",
    "# 2. Print dataframe info and data types of each column\n",
    "import pandas as pd\n",
    "df = pd.read_csv(\"car_sales.csv\")\n",
    "print(\"DataFrame Info:\")\n",
    "df.info()\n",
    "df.dtypes"
   ]
  },
  {
   "cell_type": "code",
   "execution_count": 20,
   "metadata": {},
   "outputs": [
    {
     "name": "stdout",
     "output_type": "stream",
     "text": [
      "Number of rows: 157\n",
      "Number of columns: 15\n"
     ]
    }
   ],
   "source": [
    "# 3. Print number of rows and columns\n",
    "import pandas as pd\n",
    "df = pd.read_csv(\"car_sales.csv\")\n",
    "num_rows, num_columns = df.shape\n",
    "print(\"Number of rows:\", num_rows)\n",
    "print(\"Number of columns:\", num_columns)"
   ]
  },
  {
   "cell_type": "code",
   "execution_count": 25,
   "metadata": {},
   "outputs": [
    {
     "name": "stdout",
     "output_type": "stream",
     "text": [
      "Number of rows before removing duplicates: 157\n",
      "Number of rows after removing duplicates: 157\n"
     ]
    }
   ],
   "source": [
    "# 4. Drop duplicate rows (if any)\n",
    "df_cleaned = df.drop_duplicates()\n",
    "print(\"Number of rows before removing duplicates:\", df.shape[0])\n",
    "print(\"Number of rows after removing duplicates:\",\n",
    "df_cleaned.shape[0])"
   ]
  },
  {
   "cell_type": "code",
   "execution_count": 26,
   "metadata": {},
   "outputs": [
    {
     "name": "stdout",
     "output_type": "stream",
     "text": [
      "Number of rows: 157\n",
      "Number of columns: 15\n"
     ]
    }
   ],
   "source": [
    "# 5. Print number of rows and columns after dropping duplicates\n",
    "import pandas as pd\n",
    "df = pd.read_csv(\"car_sales.csv\")\n",
    "num_rows, num_columns = df.shape\n",
    "print(\"Number of rows:\", num_rows)\n",
    "print(\"Number of columns:\", num_columns)"
   ]
  },
  {
   "cell_type": "code",
   "execution_count": 27,
   "metadata": {},
   "outputs": [
    {
     "name": "stdout",
     "output_type": "stream",
     "text": [
      "Summary Statistics for Numerical Variables:\n",
      "       Sales in thousands\n",
      "count          157.000000\n",
      "mean            52.998076\n",
      "std             68.029422\n",
      "min              0.110000\n",
      "25%             14.114000\n",
      "50%             29.450000\n",
      "75%             67.956000\n",
      "max            540.561000\n"
     ]
    }
   ],
   "source": [
    "# 6. Print summary statistics for numerical variables\n",
    "print(\"Summary Statistics for Numerical Variables:\")\n",
    "print(df.describe())"
   ]
  },
  {
   "cell_type": "code",
   "execution_count": 28,
   "metadata": {},
   "outputs": [
    {
     "name": "stdout",
     "output_type": "stream",
     "text": [
      "Number of missing values in each column:\n",
      "Manufacturer           0\n",
      "Model                  0\n",
      "Sales in thousands     0\n",
      "4-year resale value    0\n",
      "Vehicle type           0\n",
      "Price in thousands     0\n",
      "Engine size            0\n",
      "Horsepower             0\n",
      "Wheelbase              0\n",
      "Width                  0\n",
      "Length                 0\n",
      "Curb weight            0\n",
      "Fuel capacity          0\n",
      "Fuel efficiency        0\n",
      "Latest Launch          0\n",
      "dtype: int64\n"
     ]
    }
   ],
   "source": [
    "# 7. Print number of missing values in each column\n",
    "print(\"Number of missing values in each column:\")\n",
    "print(df.isnull().sum())"
   ]
  },
  {
   "cell_type": "code",
   "execution_count": 29,
   "metadata": {},
   "outputs": [
    {
     "name": "stdout",
     "output_type": "stream",
     "text": [
      "Manufacturer\n"
     ]
    }
   ],
   "source": [
    "# 8. Drop the column with most missing values\n",
    "print(df.isnull().sum().idxmax())"
   ]
  },
  {
   "cell_type": "code",
   "execution_count": 30,
   "metadata": {},
   "outputs": [
    {
     "name": "stdout",
     "output_type": "stream",
     "text": [
      "\n",
      "Dropped rows with missing categorical values.\n"
     ]
    }
   ],
   "source": [
    "# 9. Drop rows with categorical missing values\n",
    "categorical_cols = df.select_dtypes(include=['object']).columns\n",
    "df = df.dropna(subset=categorical_cols)\n",
    "print(\"\\nDropped rows with missing categorical values.\")"
   ]
  },
  {
   "cell_type": "code",
   "execution_count": 71,
   "metadata": {},
   "outputs": [],
   "source": [
    "# 10. Impute the rows with numerical missing values\n",
    "numerical_cols = df.select_dtypes(include=['number']).columns\n",
    "df[numerical_cols] = df[numerical_cols].fillna(df[numerical_cols].mean())"
   ]
  },
  {
   "cell_type": "code",
   "execution_count": 82,
   "metadata": {},
   "outputs": [
    {
     "name": "stdout",
     "output_type": "stream",
     "text": [
      "Least Expensive Car:\n",
      " Manufacturer               Chevrolet    \n",
      "Model                  Metro            \n",
      "Sales in thousands                21.855\n",
      "4-year resale value                 5.16\n",
      "Vehicle type                   Passenger\n",
      "Price in thousands                 9.235\n",
      "Engine size                            1\n",
      "Horsepower                          55.0\n",
      "Wheelbase                           93.1\n",
      "Width                               62.6\n",
      "Length                             149.4\n",
      "Curb weight                        1.895\n",
      "Fuel capacity                       10.3\n",
      "Fuel efficiency                     45.0\n",
      "Latest Launch                  13-Apr-14\n",
      "Name: 26, dtype: object\n",
      "Most Expensive Car:\n",
      " Manufacturer               Chrysler     \n",
      "Model                  Town & Country   \n",
      "Sales in thousands                 53.48\n",
      "4-year resale value                19.54\n",
      "Vehicle type                         Car\n",
      "Price in thousands                   NaN\n",
      "Engine size                            .\n",
      "Horsepower                           NaN\n",
      "Wheelbase                              .\n",
      "Width                                  .\n",
      "Length                               NaN\n",
      "Curb weight                            .\n",
      "Fuel capacity                          .\n",
      "Fuel efficiency                      NaN\n",
      "Latest Launch                  13-Jul-15\n",
      "Name: 33, dtype: object\n"
     ]
    }
   ],
   "source": [
    "# 11. Sort the data w.r.t price and find the most & least expensive cars\n",
    "\n",
    "df['Price in thousands'] = pd.to_numeric(df['Price in thousands'], errors='coerce')\n",
    "df = df.sort_values(by='Price in thousands')\n",
    "print(\"Least Expensive Car:\\n\", df.iloc[0])\n",
    "print(\"Most Expensive Car:\\n\", df.iloc[-1])"
   ]
  },
  {
   "cell_type": "code",
   "execution_count": 89,
   "metadata": {},
   "outputs": [],
   "source": [
    "# 12. Function to find min and max values of any column\n",
    "def find_min_max(column_name):\n",
    "    df[column_name] = pd.to_numeric(df[column_name], errors='coerce')  # Convert to numeric\n",
    "    return float(df[column_name].min()), float(df[column_name].max()) "
   ]
  },
  {
   "cell_type": "code",
   "execution_count": 90,
   "metadata": {},
   "outputs": [
    {
     "name": "stdout",
     "output_type": "stream",
     "text": [
      "Horsepower Min/Max: (55.0, 450.0)\n",
      "Length Min/Max: (149.4, 224.5)\n",
      "Fuel Efficiency Min/Max: (15.0, 45.0)\n"
     ]
    }
   ],
   "source": [
    "# 13. Call function for horsepower, length, fuel efficiency\n",
    "print(\"Horsepower Min/Max:\", find_min_max('Horsepower'))\n",
    "print(\"Length Min/Max:\", find_min_max('Length'))\n",
    "print(\"Fuel Efficiency Min/Max:\", find_min_max('Fuel efficiency'))"
   ]
  },
  {
   "cell_type": "code",
   "execution_count": 94,
   "metadata": {},
   "outputs": [
    {
     "data": {
      "image/png": "[encoded data removed]",
      "text/plain": [
       "<Figure size 1000x600 with 4 Axes>"
      ]
     },
     "metadata": {},
     "output_type": "display_data"
    }
   ],
   "source": [
    "# 14. Plot histogram of continuous numerical variables\n",
    "import matplotlib.pyplot as plt\n",
    "df[['Price in thousands', 'Sales in thousands', 'Horsepower', 'Fuel efficiency']].hist(figsize=(10, 6))\n",
    "plt.show()"
   ]
  },
  {
   "cell_type": "code",
   "execution_count": 91,
   "metadata": {},
   "outputs": [],
   "source": [
    "#15. Probability density distribution of length\n"
   ]
  },
  {
   "cell_type": "code",
   "execution_count": null,
   "metadata": {},
   "outputs": [],
   "source": []
  },
  {
   "cell_type": "code",
   "execution_count": null,
   "metadata": {},
   "outputs": [],
   "source": []
  },
  {
   "cell_type": "code",
   "execution_count": null,
   "metadata": {},
   "outputs": [],
   "source": []
  },
  {
   "cell_type": "code",
   "execution_count": null,
   "metadata": {},
   "outputs": [],
   "source": []
  },
  {
   "cell_type": "code",
   "execution_count": null,
   "metadata": {},
   "outputs": [],
   "source": []
  },
  {
   "cell_type": "code",
   "execution_count": null,
   "metadata": {},
   "outputs": [],
   "source": []
  },
  {
   "cell_type": "code",
   "execution_count": null,
   "metadata": {},
   "outputs": [],
   "source": []
  }
 ],
 "metadata": {
  "kernelspec": {
   "display_name": ".venv",
   "language": "python",
   "name": "python3"
  },
  "language_info": {
   "codemirror_mode": {
    "name": "ipython",
    "version": 3
   },
   "file_extension": ".py",
   "mimetype": "text/x-python",
   "name": "python",
   "nbconvert_exporter": "python",
   "pygments_lexer": "ipython3",
   "version": "3.11.9"
  }
 },
 "nbformat": 4,
 "nbformat_minor": 2
}
