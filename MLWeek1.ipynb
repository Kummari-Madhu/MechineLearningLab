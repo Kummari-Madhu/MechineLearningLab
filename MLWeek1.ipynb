{
 "cells": [
  {
   "cell_type": "code",
   "execution_count": 11,
   "metadata": {},
   "outputs": [
    {
     "name": "stdout",
     "output_type": "stream",
     "text": [
      "0    10\n",
      "1    20\n",
      "2    30\n",
      "3    40\n",
      "dtype: int64\n"
     ]
    }
   ],
   "source": [
    "import pandas as pd\n",
    "data = [10, 20, 30, 40]\n",
    "v = pd.Series(data)\n",
    "print(v)"
   ]
  },
  {
   "cell_type": "code",
   "execution_count": 12,
   "metadata": {},
   "outputs": [
    {
     "name": "stdout",
     "output_type": "stream",
     "text": [
      "      Name  Age         City\n",
      "0    Alice   25     New York\n",
      "1      Bob   30  Los Angeles\n",
      "2  Charlie   35      Chicago\n"
     ]
    }
   ],
   "source": [
    "data = {\n",
    "'Name': ['Alice', 'Bob', 'Charlie'],\n",
    "'Age': [25, 30, 35],\n",
    "'City': ['New York', 'Los Angeles', 'Chicago']\n",
    "}\n",
    "df = pd.DataFrame(data)\n",
    "print(df)"
   ]
  },
  {
   "cell_type": "code",
   "execution_count": 13,
   "metadata": {},
   "outputs": [
    {
     "name": "stdout",
     "output_type": "stream",
     "text": [
      "   TransactionID TransactionDate  UserID  ProductID  Quantity\n",
      "0              1      2010-08-21     7.0          2         1\n",
      "1              2      2011-05-26     3.0          4         1\n",
      "2              3      2011-06-16     3.0          3         1\n",
      "3              4      2012-08-26     1.0          2         3\n",
      "4              5      2013-06-06     2.0          4         1\n",
      "5              6      2013-12-23     2.0          5         6\n",
      "6              7      2013-12-30     3.0          4         1\n",
      "7              8      2014-04-24     NaN          2         3\n",
      "8              9      2015-04-24     7.0          4         3\n",
      "9             10      2016-05-08     3.0          4         4\n"
     ]
    }
   ],
   "source": [
    "import pandas as pd\n",
    "df = pd.read_csv('transactions.csv')\n",
    "print(df)"
   ]
  },
  {
   "cell_type": "code",
   "execution_count": 14,
   "metadata": {},
   "outputs": [
    {
     "name": "stdout",
     "output_type": "stream",
     "text": [
      "   TransactionID TransactionDate  UserID  ProductID  Quantity\n",
      "0              1      2010-08-21     7.0          2         1\n"
     ]
    }
   ],
   "source": [
    "print(df.head(1))"
   ]
  },
  {
   "cell_type": "code",
   "execution_count": 15,
   "metadata": {},
   "outputs": [
    {
     "name": "stdout",
     "output_type": "stream",
     "text": [
      "   TransactionID TransactionDate  UserID  ProductID  Quantity\n",
      "9             10      2016-05-08     3.0          4         4\n"
     ]
    }
   ],
   "source": [
    "print(df.tail(1))"
   ]
  },
  {
   "cell_type": "code",
   "execution_count": 16,
   "metadata": {},
   "outputs": [
    {
     "name": "stdout",
     "output_type": "stream",
     "text": [
      "<class 'pandas.core.frame.DataFrame'>\n",
      "RangeIndex: 10 entries, 0 to 9\n",
      "Data columns (total 5 columns):\n",
      " #   Column           Non-Null Count  Dtype  \n",
      "---  ------           --------------  -----  \n",
      " 0   TransactionID    10 non-null     int64  \n",
      " 1   TransactionDate  10 non-null     object \n",
      " 2   UserID           9 non-null      float64\n",
      " 3   ProductID        10 non-null     int64  \n",
      " 4   Quantity         10 non-null     int64  \n",
      "dtypes: float64(1), int64(3), object(1)\n",
      "memory usage: 532.0+ bytes\n",
      "None\n"
     ]
    }
   ],
   "source": [
    "print(df.info())"
   ]
  },
  {
   "cell_type": "code",
   "execution_count": 17,
   "metadata": {},
   "outputs": [
    {
     "name": "stdout",
     "output_type": "stream",
     "text": [
      "       TransactionID    UserID  ProductID   Quantity\n",
      "count       10.00000  9.000000  10.000000  10.000000\n",
      "mean         5.50000  3.444444   3.400000   2.400000\n",
      "std          3.02765  2.127858   1.074968   1.712698\n",
      "min          1.00000  1.000000   2.000000   1.000000\n",
      "25%          3.25000  2.000000   2.250000   1.000000\n",
      "50%          5.50000  3.000000   4.000000   2.000000\n",
      "75%          7.75000  3.000000   4.000000   3.000000\n",
      "max         10.00000  7.000000   5.000000   6.000000\n"
     ]
    }
   ],
   "source": [
    "#1 Print Summary of transaction data set\n",
    "print(df.describe())"
   ]
  },
  {
   "cell_type": "code",
   "execution_count": 18,
   "metadata": {},
   "outputs": [
    {
     "name": "stdout",
     "output_type": "stream",
     "text": [
      "        TransactionID TransactionDate    UserID  ProductID   Quantity\n",
      "count        10.00000              10  9.000000  10.000000  10.000000\n",
      "unique            NaN              10       NaN        NaN        NaN\n",
      "top               NaN      2010-08-21       NaN        NaN        NaN\n",
      "freq              NaN               1       NaN        NaN        NaN\n",
      "mean          5.50000             NaN  3.444444   3.400000   2.400000\n",
      "std           3.02765             NaN  2.127858   1.074968   1.712698\n",
      "min           1.00000             NaN  1.000000   2.000000   1.000000\n",
      "25%           3.25000             NaN  2.000000   2.250000   1.000000\n",
      "50%           5.50000             NaN  3.000000   4.000000   2.000000\n",
      "75%           7.75000             NaN  3.000000   4.000000   3.000000\n",
      "max          10.00000             NaN  7.000000   5.000000   6.000000\n"
     ]
    }
   ],
   "source": [
    "import pandas as pd\n",
    "print(df.describe(include='all'))"
   ]
  },
  {
   "cell_type": "code",
   "execution_count": 19,
   "metadata": {},
   "outputs": [
    {
     "name": "stdout",
     "output_type": "stream",
     "text": [
      "['TransactionID', 'TransactionDate', 'UserID', 'ProductID', 'Quantity']\n"
     ]
    }
   ],
   "source": [
    "#2. Print Numbers of Attributes\n",
    "print(df.columns.tolist())"
   ]
  },
  {
   "cell_type": "code",
   "execution_count": 20,
   "metadata": {},
   "outputs": [
    {
     "name": "stdout",
     "output_type": "stream",
     "text": [
      "  TransactionDate  UserID\n",
      "0      2010-08-21     7.0\n",
      "1      2011-05-26     3.0\n",
      "2      2011-06-16     3.0\n",
      "3      2012-08-26     1.0\n",
      "4      2013-06-06     2.0\n",
      "5      2013-12-23     2.0\n",
      "6      2013-12-30     3.0\n",
      "7      2014-04-24     NaN\n",
      "8      2015-04-24     7.0\n",
      "9      2016-05-08     3.0\n"
     ]
    }
   ],
   "source": [
    "#3. Print Numbers of Records\n",
    "print(df[['TransactionDate', 'UserID']])"
   ]
  },
  {
   "cell_type": "code",
   "execution_count": 21,
   "metadata": {},
   "outputs": [
    {
     "name": "stdout",
     "output_type": "stream",
     "text": [
      "[0, 1, 2, 3, 4, 5, 6, 7, 8, 9]\n"
     ]
    }
   ],
   "source": [
    "#4. Get the row names\n",
    "print(df.index.tolist())"
   ]
  },
  {
   "cell_type": "code",
   "execution_count": 22,
   "metadata": {},
   "outputs": [
    {
     "name": "stdout",
     "output_type": "stream",
     "text": [
      "['TransactionID', 'TransactionDate', 'UserID', 'ProductID', 'Quantity']\n"
     ]
    }
   ],
   "source": [
    "#5. Get the column names\n",
    "print(df.columns.tolist())"
   ]
  },
  {
   "cell_type": "code",
   "execution_count": 23,
   "metadata": {},
   "outputs": [
    {
     "name": "stdout",
     "output_type": "stream",
     "text": [
      "   TransactionID TransactionDate  UserID  ProductID  Quantity\n",
      "0              1      2010-08-21     7.0          2         1\n",
      "1              2      2011-05-26     3.0          4         1\n",
      "2              3      2011-06-16     3.0          3         1\n",
      "3              4      2012-08-26     1.0          2         3\n",
      "4              5      2013-06-06     2.0          4         1\n",
      "5              6      2013-12-23     2.0          5         6\n",
      "6              7      2013-12-30     3.0          4         1\n",
      "7              8      2014-04-24     NaN          2         3\n",
      "8              9      2015-04-24     7.0          4         3\n",
      "9             10      2016-05-08     3.0          4         4\n"
     ]
    }
   ],
   "source": [
    "#6. print(df.columns.tolist())\n",
    "print(df.head(10))"
   ]
  },
  {
   "cell_type": "code",
   "execution_count": 24,
   "metadata": {},
   "outputs": [
    {
     "name": "stdout",
     "output_type": "stream",
     "text": [
      "   TransactionID TransactionDate  UserID  ProductID  Quant\n",
      "0              1      2010-08-21     7.0          2      1\n",
      "1              2      2011-05-26     3.0          4      1\n",
      "2              3      2011-06-16     3.0          3      1\n",
      "3              4      2012-08-26     1.0          2      3\n",
      "4              5      2013-06-06     2.0          4      1\n",
      "5              6      2013-12-23     2.0          5      6\n",
      "6              7      2013-12-30     3.0          4      1\n",
      "7              8      2014-04-24     NaN          2      3\n",
      "8              9      2015-04-24     7.0          4      3\n",
      "9             10      2016-05-08     3.0          4      4\n"
     ]
    }
   ],
   "source": [
    "#7.Change the name of column “ Quantity” to “Quant”\n",
    "df.rename(columns={\"Quantity\": \"Quant\"}, inplace=True)\n",
    "print(df)"
   ]
  },
  {
   "cell_type": "code",
   "execution_count": 25,
   "metadata": {},
   "outputs": [
    {
     "name": "stdout",
     "output_type": "stream",
     "text": [
      "   TransactionID TransactionDate  UserID  ProductID  Quant\n",
      "0              1      2010-08-21     7.0          2      1\n",
      "1              2      2011-05-26     3.0          4      1\n",
      "2              3      2011-06-16     3.0          3      1\n",
      "3              4      2012-08-26     1.0          2      3\n",
      "4              5      2013-06-06     2.0          4      1\n",
      "5              6      2013-12-23     2.0          5      6\n",
      "6              7      2013-12-30     3.0          4      1\n",
      "7              8      2014-04-24     NaN          2      3\n",
      "8              9      2015-04-24     7.0          4      3\n",
      "9             10      2016-05-08     3.0          4      4\n"
     ]
    }
   ],
   "source": [
    "#8.Change the name of columns ProductID and UserID\n",
    "'''df.rename(columns={\"ProductID\": \"Product_ID\" , \"UserID\": \"User_ID\"}, inplace=True)\n",
    "print(df)'''\n",
    "df.rename(columns={\"Product_ID\": \"PID\" , \"User_ID\": \"UID\"}, inplace=True)\n",
    "print(df)"
   ]
  },
  {
   "cell_type": "code",
   "execution_count": 26,
   "metadata": {},
   "outputs": [
    {
     "name": "stdout",
     "output_type": "stream",
     "text": [
      "   TransactionID TransactionDate  UserID  ProductID  Quant\n",
      "9             10      2016-05-08     3.0          4      4\n",
      "8              9      2015-04-24     7.0          4      3\n",
      "7              8      2014-04-24     NaN          2      3\n",
      "6              7      2013-12-30     3.0          4      1\n",
      "5              6      2013-12-23     2.0          5      6\n",
      "4              5      2013-06-06     2.0          4      1\n",
      "3              4      2012-08-26     1.0          2      3\n",
      "2              3      2011-06-16     3.0          3      1\n",
      "1              2      2011-05-26     3.0          4      1\n",
      "0              1      2010-08-21     7.0          2      1\n"
     ]
    }
   ],
   "source": [
    "#9. Order the rows of transactions by TransactionId descending, if ascending then ascending=True\n",
    "shiva=df.sort_values(by=[\"TransactionID\"], ascending=False)\n",
    "print(shiva)"
   ]
  },
  {
   "cell_type": "code",
   "execution_count": 27,
   "metadata": {},
   "outputs": [
    {
     "name": "stdout",
     "output_type": "stream",
     "text": [
      "   TransactionID TransactionDate  UserID  ProductID  Quant\n",
      "9             10      2016-05-08     3.0          4      4\n",
      "8              9      2015-04-24     7.0          4      3\n",
      "7              8      2014-04-24     NaN          2      3\n",
      "6              7      2013-12-30     3.0          4      1\n",
      "5              6      2013-12-23     2.0          5      6\n",
      "4              5      2013-06-06     2.0          4      1\n",
      "3              4      2012-08-26     1.0          2      3\n",
      "2              3      2011-06-16     3.0          3      1\n",
      "1              2      2011-05-26     3.0          4      1\n",
      "0              1      2010-08-21     7.0          2      1\n"
     ]
    }
   ],
   "source": [
    "df.sort_values(by=\"TransactionID\", ascending=False, inplace=True)\n",
    "print(df)"
   ]
  },
  {
   "cell_type": "code",
   "execution_count": 28,
   "metadata": {},
   "outputs": [
    {
     "name": "stdout",
     "output_type": "stream",
     "text": [
      "   TransactionID TransactionDate  UserID  ProductID  Quant\n",
      "9             10      2016-05-08     3.0          4      4\n",
      "8              9      2015-04-24     7.0          4      3\n",
      "7              8      2014-04-24     NaN          2      3\n",
      "6              7      2013-12-30     3.0          4      1\n",
      "5              6      2013-12-23     2.0          5      6\n",
      "4              5      2013-06-06     2.0          4      1\n",
      "3              4      2012-08-26     1.0          2      3\n",
      "2              3      2011-06-16     3.0          3      1\n",
      "1              2      2011-05-26     3.0          4      1\n",
      "0              1      2010-08-21     7.0          2      1\n"
     ]
    }
   ],
   "source": [
    "print(df)"
   ]
  },
  {
   "cell_type": "code",
   "execution_count": 29,
   "metadata": {},
   "outputs": [
    {
     "name": "stdout",
     "output_type": "stream",
     "text": [
      "   TransactionID TransactionDate  UserID  ProductID  Quant\n",
      "6              7      2013-12-30     3.0          4      1\n",
      "4              5      2013-06-06     2.0          4      1\n",
      "2              3      2011-06-16     3.0          3      1\n",
      "1              2      2011-05-26     3.0          4      1\n",
      "0              1      2010-08-21     7.0          2      1\n",
      "8              9      2015-04-24     7.0          4      3\n",
      "7              8      2014-04-24     NaN          2      3\n",
      "3              4      2012-08-26     1.0          2      3\n",
      "9             10      2016-05-08     3.0          4      4\n",
      "5              6      2013-12-23     2.0          5      6\n"
     ]
    }
   ],
   "source": [
    "#10. Order the rows of transactions by Quantity ascending, TransactionDate descending\n",
    "madhu=df.sort_values(by=[\"Quant\",\"TransactionDate\"],ascending=[True,False])\n",
    "print(madhu)"
   ]
  },
  {
   "cell_type": "code",
   "execution_count": 30,
   "metadata": {},
   "outputs": [
    {
     "name": "stdout",
     "output_type": "stream",
     "text": [
      "   ProductID  Quant TransactionDate  TransactionID  UserID\n",
      "9          4      4      2016-05-08             10     3.0\n",
      "8          4      3      2015-04-24              9     7.0\n",
      "7          2      3      2014-04-24              8     NaN\n",
      "6          4      1      2013-12-30              7     3.0\n",
      "5          5      6      2013-12-23              6     2.0\n",
      "4          4      1      2013-06-06              5     2.0\n",
      "3          2      3      2012-08-26              4     1.0\n",
      "2          3      1      2011-06-16              3     3.0\n",
      "1          4      1      2011-05-26              2     3.0\n",
      "0          2      1      2010-08-21              1     7.0\n"
     ]
    }
   ],
   "source": [
    "#11. Set the column order of Transactions as ProductID, Quantity, TransactionDate, TransactionID, UserID\n",
    "sh = df[[\"ProductID\", \"Quant\", \"TransactionDate\", \"TransactionID\", \"UserID\"]]\n",
    "print(sh)"
   ]
  },
  {
   "cell_type": "code",
   "execution_count": 31,
   "metadata": {},
   "outputs": [
    {
     "name": "stdout",
     "output_type": "stream",
     "text": [
      "   UserID  ProductID  Quant TransactionDate  TransactionID\n",
      "9     3.0          4      4      2016-05-08             10\n",
      "8     7.0          4      3      2015-04-24              9\n",
      "7     NaN          2      3      2014-04-24              8\n",
      "6     3.0          4      1      2013-12-30              7\n",
      "5     2.0          5      6      2013-12-23              6\n",
      "4     2.0          4      1      2013-06-06              5\n",
      "3     1.0          2      3      2012-08-26              4\n",
      "2     3.0          3      1      2011-06-16              3\n",
      "1     3.0          4      1      2011-05-26              2\n",
      "0     7.0          2      1      2010-08-21              1\n"
     ]
    }
   ],
   "source": [
    "#12. Make UserID the first column of transactions\n",
    "sh1 = sh[[\"UserID\" ,\"ProductID\", \"Quant\", \"TransactionDate\", \"TransactionID\"]]\n",
    "print(sh1)"
   ]
  },
  {
   "cell_type": "code",
   "execution_count": 32,
   "metadata": {},
   "outputs": [
    {
     "name": "stdout",
     "output_type": "stream",
     "text": [
      "9    4\n",
      "8    4\n",
      "7    2\n",
      "6    4\n",
      "5    5\n",
      "4    4\n",
      "3    2\n",
      "2    3\n",
      "1    4\n",
      "0    2\n",
      "Name: ProductID, dtype: int64\n"
     ]
    }
   ],
   "source": [
    "#13. Extracting arrays from a Data Frame. Get the 2nd column\n",
    "second_column = sh1.iloc[:, 1]\n",
    "print(second_column)"
   ]
  },
  {
   "cell_type": "code",
   "execution_count": 33,
   "metadata": {},
   "outputs": [
    {
     "name": "stdout",
     "output_type": "stream",
     "text": [
      "9    4\n",
      "Name: Quant, dtype: int64\n"
     ]
    }
   ],
   "source": [
    "second_column = sh1.iloc[:, 2]\n",
    "print(second_column.head(1))"
   ]
  },
  {
   "cell_type": "code",
   "execution_count": 34,
   "metadata": {},
   "outputs": [
    {
     "name": "stdout",
     "output_type": "stream",
     "text": [
      "[4 4 2 4 5 4 2 3 4 2]\n"
     ]
    }
   ],
   "source": [
    "#14. Get the ProductID Array\n",
    "PA = df[\"ProductID\"].values\n",
    "print(PA)"
   ]
  },
  {
   "cell_type": "code",
   "execution_count": 35,
   "metadata": {},
   "outputs": [],
   "source": [
    "#15. Get the ProductId array using the following variable\n"
   ]
  },
  {
   "cell_type": "code",
   "execution_count": null,
   "metadata": {},
   "outputs": [],
   "source": []
  },
  {
   "cell_type": "code",
   "execution_count": null,
   "metadata": {},
   "outputs": [],
   "source": []
  },
  {
   "cell_type": "code",
   "execution_count": null,
   "metadata": {},
   "outputs": [],
   "source": []
  },
  {
   "cell_type": "code",
   "execution_count": null,
   "metadata": {},
   "outputs": [],
   "source": []
  },
  {
   "cell_type": "code",
   "execution_count": null,
   "metadata": {},
   "outputs": [],
   "source": []
  },
  {
   "cell_type": "code",
   "execution_count": null,
   "metadata": {},
   "outputs": [],
   "source": []
  },
  {
   "cell_type": "code",
   "execution_count": null,
   "metadata": {},
   "outputs": [],
   "source": []
  },
  {
   "cell_type": "code",
   "execution_count": null,
   "metadata": {},
   "outputs": [],
   "source": []
  }
 ],
 "metadata": {
  "kernelspec": {
   "display_name": ".venv",
   "language": "python",
   "name": "python3"
  },
  "language_info": {
   "codemirror_mode": {
    "name": "ipython",
    "version": 3
   },
   "file_extension": ".py",
   "mimetype": "text/x-python",
   "name": "python",
   "nbconvert_exporter": "python",
   "pygments_lexer": "ipython3",
   "version": "3.10.12"
  }
 },
 "nbformat": 4,
 "nbformat_minor": 2
}
